{
 "cells": [
  {
   "cell_type": "code",
   "execution_count": 41,
   "id": "150ccf59",
   "metadata": {},
   "outputs": [
    {
     "name": "stdout",
     "output_type": "stream",
     "text": [
      "1.Add_emp() \n",
      "2.Display_emp() \n",
      "3.Seperate_emp \n",
      "4.Exit \n",
      "1\n",
      "Employee ID '(3 Digit number)':935\n",
      "Employee Name:usgdfhs\n",
      "Salary'(Above 3000)':3690\n",
      "Department Number 'Valid Numbers (10,20,30)':10\n",
      "1.Add_emp() \n",
      "2.Display_emp() \n",
      "3.Seperate_emp \n",
      "4.Exit \n",
      "1\n",
      "Employee ID '(3 Digit number)':57908\n",
      "Employee Name:dglhskf\n",
      "Salary'(Above 3000)':57908\n",
      "Department Number 'Valid Numbers (10,20,30)':20\n",
      "1.Add_emp() \n",
      "2.Display_emp() \n",
      "3.Seperate_emp \n",
      "4.Exit \n",
      "1\n",
      "Employee ID '(3 Digit number)':60395\n",
      "Employee Name:rdizl;guh\n",
      "Salary'(Above 3000)':36907\n",
      "Department Number 'Valid Numbers (10,20,30)':30\n",
      "1.Add_emp() \n",
      "2.Display_emp() \n",
      "3.Seperate_emp \n",
      "4.Exit \n",
      "2\n",
      "Employee ID,Employee Name,Salary,Department Number\n",
      "\n",
      "935,USGDFHS,3690,10\n",
      "\n",
      "57908,DGLHSKF,57908,20\n",
      "\n",
      "60395,RDIZL;GUH,36907,30\n",
      "\n",
      "1.Add_emp() \n",
      "2.Display_emp() \n",
      "3.Seperate_emp \n",
      "4.Exit \n",
      "3\n",
      "1.Add_emp() \n",
      "2.Display_emp() \n",
      "3.Seperate_emp \n",
      "4.Exit \n",
      "4\n",
      "The End...\n"
     ]
    }
   ],
   "source": [
    "Employee=[[\"Employee ID\",\"Employee Name\",\"Salary\",\"Department Number\"]]\n",
    "\n",
    "\n",
    "def Add_emp():\n",
    "    \n",
    "    Empid=int(input(\"Employee ID '(3 Digit number)':\"))\n",
    "    if(Empid<=99):\n",
    "        Empid=int(input(\"Enter a Valid 3 Digit number\"))\n",
    "    \n",
    "    Ename=input(\"Employee Name:\").upper()\n",
    "    Sal=int(input(\"Salary'(Above 3000)':\"))\n",
    "    if(Sal<3000):\n",
    "        Sal=int(input(\"Enter a Valid Salary '(Above 3000)':\"))\n",
    "        \n",
    "    Deptno=int(input(\"Department Number 'Valid Numbers (10,20,30)':\"))\n",
    "    if(Deptno not in [10,20,30]):\n",
    "        Deptno=int(input(\"Enter a Dept Number '(Must be - 10 (or) 20 (or) 30)':\"))\n",
    "    Employee.append([Empid,Ename,Sal,Deptno])\n",
    "    return\n",
    "        \n",
    "def Display_emp():\n",
    "    f=open('emp.txt',\"w\")\n",
    "    for i in Employee:\n",
    "        for j in range(len(i)):\n",
    "            if(j==len(i)-1):\n",
    "                f.write(str(i[j])+\"\\n\")\n",
    "            else:\n",
    "                f.write(str(i[j])+\",\")\n",
    "    f.close()\n",
    "    f=open('emp.txt','r')\n",
    "    k=f.readlines()\n",
    "    for i in (k):\n",
    "        print(i)\n",
    "    return\n",
    "    \n",
    "    \n",
    "def Seperate_emp():\n",
    "    for i in Employee[1:]:\n",
    "        if(i[-1]==10):\n",
    "            f=open('Emp_10.txt',\"w\")\n",
    "            for j in range(len(i)):\n",
    "                if(j==len(i)-1):\n",
    "                    f.write(str(i[j])+\"\\n\")\n",
    "                else:\n",
    "                    f.write(str(i[j])+\",\")   \n",
    "        elif(i[-1]==20):\n",
    "            f=open('Emp_20.txt',\"w\")\n",
    "            for j in range(len(i)):\n",
    "                if(j==len(i)-1):\n",
    "                    f.write(str(i[j])+\"\\n\")\n",
    "                else:\n",
    "                    f.write(str(i[j])+\",\")\n",
    "        elif(i[-1]==30):\n",
    "            f=open('Emp_30.txt',\"w\")\n",
    "            for j in range(len(i)):\n",
    "                if(j==len(i)-1):\n",
    "                    f.write(str(i[j])+\"\\n\")\n",
    "                else:\n",
    "                    f.write(str(i[j])+\",\")\n",
    "    \n",
    "    \n",
    "while(1):\n",
    "    x=int(input(\"1.Add_emp() \\n2.Display_emp() \\n3.Seperate_emp \\n4.Exit \\n\"))\n",
    "    if(x==1):Add_emp()\n",
    "    elif(x==2):Display_emp()\n",
    "    elif(x==3):Seperate_emp()\n",
    "    elif(x==4):\n",
    "        print('The End...')\n",
    "        break\n",
    "    else:print(\"\\nEnter a Valid Choice: \")"
   ]
  },
  {
   "cell_type": "code",
   "execution_count": 36,
   "id": "cb2d8e4e",
   "metadata": {},
   "outputs": [
    {
     "data": {
      "text/plain": [
       "[['Employee ID', 'Employee Name', 'Salary', 'Department Number'],\n",
       " [25689, 'ASRGUOII', 356894, 10]]"
      ]
     },
     "execution_count": 36,
     "metadata": {},
     "output_type": "execute_result"
    }
   ],
   "source": [
    "Employee"
   ]
  },
  {
   "cell_type": "code",
   "execution_count": 38,
   "id": "72fa991c",
   "metadata": {},
   "outputs": [
    {
     "name": "stdout",
     "output_type": "stream",
     "text": [
      "Employee ID,Employee Name,Salary,Department Number\n",
      "\n",
      "25689,ASRGUOII,356894,10\n",
      "\n"
     ]
    }
   ],
   "source": [
    "f=open('emp.txt',\"w\")\n",
    "for i in Employee:\n",
    "    for j in range(len(i)):\n",
    "        if(j==len(i)-1):\n",
    "            f.write(str(i[j])+\"\\n\")\n",
    "        else:\n",
    "            f.write(str(i[j])+\",\")\n",
    "f.close()\n",
    "f=open('emp.txt','r')\n",
    "k=f.readlines()\n",
    "for i in (k):\n",
    "    print(i)"
   ]
  },
  {
   "cell_type": "code",
   "execution_count": null,
   "id": "7ed6f32c",
   "metadata": {},
   "outputs": [],
   "source": []
  }
 ],
 "metadata": {
  "kernelspec": {
   "display_name": "Python 3 (ipykernel)",
   "language": "python",
   "name": "python3"
  },
  "language_info": {
   "codemirror_mode": {
    "name": "ipython",
    "version": 3
   },
   "file_extension": ".py",
   "mimetype": "text/x-python",
   "name": "python",
   "nbconvert_exporter": "python",
   "pygments_lexer": "ipython3",
   "version": "3.9.6"
  }
 },
 "nbformat": 4,
 "nbformat_minor": 5
}
