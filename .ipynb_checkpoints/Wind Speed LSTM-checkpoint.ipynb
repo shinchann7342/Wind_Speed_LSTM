{
 "cells": [
  {
   "cell_type": "code",
   "execution_count": 176,
   "id": "f820162f",
   "metadata": {},
   "outputs": [],
   "source": [
    "import numpy\n",
    "import matplotlib.pyplot as plt\n",
    "from pandas import read_csv\n",
    "import math\n",
    "from keras.models import Sequential\n",
    "from keras.layers import Dense\n",
    "from keras.layers import LSTM\n",
    "from sklearn.preprocessing import MinMaxScaler\n",
    "from sklearn.metrics import mean_squared_error\n",
    "import pandas as pd\n",
    "import os\n",
    "import tensorflow\n",
    "from keras.layers import LeakyReLU"
   ]
  },
  {
   "cell_type": "code",
   "execution_count": 162,
   "id": "2bc4f1ed",
   "metadata": {},
   "outputs": [],
   "source": [
    "def create_dataset(dataset, look_back=1):\n",
    "    dataX, dataY = [], []\n",
    "    for i in range(len(dataset)-look_back-1):\n",
    "        a = dataset[i:(i+look_back), 0]\n",
    "        dataX.append(a)\n",
    "        dataY.append(dataset[i + look_back, 0])\n",
    "    return numpy.array(dataX), numpy.array(dataY)"
   ]
  },
  {
   "cell_type": "code",
   "execution_count": null,
   "id": "45450f22",
   "metadata": {},
   "outputs": [],
   "source": []
  },
  {
   "cell_type": "code",
   "execution_count": 59,
   "id": "8066919f",
   "metadata": {},
   "outputs": [
    {
     "data": {
      "text/plain": [
       "Date\n",
       "2001-01-02     2.30\n",
       "2001-01-03     2.30\n",
       "2001-01-04     9.20\n",
       "2001-01-05     9.20\n",
       "2001-01-06     9.20\n",
       "              ...  \n",
       "2022-04-10    12.65\n",
       "2022-04-11    13.80\n",
       "2022-04-12     9.20\n",
       "2022-04-13    13.80\n",
       "2022-04-14     6.90\n",
       "Name: Speed, Length: 7984, dtype: float64"
      ]
     },
     "execution_count": 59,
     "metadata": {},
     "output_type": "execute_result"
    }
   ],
   "source": [
    "dataframe = pd.read_csv(\"Final_Dataset_120522.csv\",index_col='Date',parse_dates=True)\n",
    "dataframe['Speed']"
   ]
  },
  {
   "cell_type": "code",
   "execution_count": 447,
   "id": "bf4a4462",
   "metadata": {
    "scrolled": true
   },
   "outputs": [],
   "source": [
    "dataframe = pd.read_csv(\"Final_Dataset_120522.csv\",index_col='Date',parse_dates=True)\n",
    "dataset = dataframe.values\n",
    "dataset = dataset.astype('float32')\n",
    "\n",
    "# # normalize the dataset\n",
    "\n",
    "scaler = MinMaxScaler(feature_range=(0, 1))\n",
    "dataset = scaler.fit_transform(dataset)\n",
    "\n",
    "\n",
    "# # split into train and test sets\n",
    "\n",
    "train_size = int(len(dataset) * 0.7)\n",
    "test_size = len(dataset) - train_size\n",
    "train, test = dataset[0:train_size,:], dataset[train_size:len(dataset),:]\n",
    "\n",
    "\n",
    "# # reshape into X=t and Y=t+1\n",
    "\n",
    "look_back = 1\n",
    "trainX, trainY = create_dataset(train, look_back)\n",
    "testX, testY = create_dataset(test, look_back)\n",
    "\n",
    " \n",
    "# # reshape input to be [samples, time steps, features]\n",
    "\n",
    "trainX = numpy.reshape(trainX, (trainX.shape[0], 1, trainX.shape[1]))\n",
    "testX = numpy.reshape(testX, (testX.shape[0], 1, testX.shape[1]))\n",
    "\n",
    "\n",
    " \n",
    "# # create and fit the LSTM network"
   ]
  },
  {
   "cell_type": "code",
   "execution_count": 448,
   "id": "071c4220",
   "metadata": {
    "scrolled": true
   },
   "outputs": [
    {
     "name": "stdout",
     "output_type": "stream",
     "text": [
      "Epoch 1/100\n",
      "1397/1397 - 2s - loss: 0.0026 - 2s/epoch - 1ms/step\n",
      "Epoch 2/100\n",
      "1397/1397 - 1s - loss: 0.0022 - 1s/epoch - 898us/step\n",
      "Epoch 3/100\n",
      "1397/1397 - 1s - loss: 0.0022 - 1s/epoch - 898us/step\n",
      "Epoch 4/100\n",
      "1397/1397 - 1s - loss: 0.0022 - 1s/epoch - 920us/step\n",
      "Epoch 5/100\n",
      "1397/1397 - 1s - loss: 0.0022 - 1s/epoch - 917us/step\n",
      "Epoch 6/100\n",
      "1397/1397 - 1s - loss: 0.0022 - 1s/epoch - 913us/step\n",
      "Epoch 7/100\n",
      "1397/1397 - 1s - loss: 0.0022 - 1s/epoch - 919us/step\n",
      "Epoch 8/100\n",
      "1397/1397 - 1s - loss: 0.0022 - 1s/epoch - 918us/step\n",
      "Epoch 9/100\n",
      "1397/1397 - 1s - loss: 0.0022 - 1s/epoch - 932us/step\n",
      "Epoch 10/100\n",
      "1397/1397 - 1s - loss: 0.0022 - 1s/epoch - 917us/step\n",
      "Epoch 11/100\n",
      "1397/1397 - 1s - loss: 0.0022 - 1s/epoch - 917us/step\n",
      "Epoch 12/100\n",
      "1397/1397 - 1s - loss: 0.0022 - 1s/epoch - 918us/step\n",
      "Epoch 13/100\n",
      "1397/1397 - 1s - loss: 0.0022 - 1s/epoch - 907us/step\n",
      "Epoch 14/100\n",
      "1397/1397 - 1s - loss: 0.0022 - 1s/epoch - 909us/step\n",
      "Epoch 15/100\n",
      "1397/1397 - 1s - loss: 0.0022 - 1s/epoch - 905us/step\n",
      "Epoch 16/100\n",
      "1397/1397 - 2s - loss: 0.0022 - 2s/epoch - 1ms/step\n",
      "Epoch 17/100\n",
      "1397/1397 - 2s - loss: 0.0022 - 2s/epoch - 1ms/step\n",
      "Epoch 18/100\n",
      "1397/1397 - 1s - loss: 0.0022 - 1s/epoch - 976us/step\n",
      "Epoch 19/100\n",
      "1397/1397 - 1s - loss: 0.0022 - 1s/epoch - 881us/step\n",
      "Epoch 20/100\n",
      "1397/1397 - 1s - loss: 0.0022 - 1s/epoch - 920us/step\n",
      "Epoch 21/100\n",
      "1397/1397 - 1s - loss: 0.0022 - 1s/epoch - 851us/step\n",
      "Epoch 22/100\n",
      "1397/1397 - 1s - loss: 0.0022 - 1s/epoch - 884us/step\n",
      "Epoch 23/100\n",
      "1397/1397 - 1s - loss: 0.0022 - 1s/epoch - 907us/step\n",
      "Epoch 24/100\n",
      "1397/1397 - 1s - loss: 0.0022 - 1s/epoch - 990us/step\n",
      "Epoch 25/100\n",
      "1397/1397 - 2s - loss: 0.0022 - 2s/epoch - 1ms/step\n",
      "Epoch 26/100\n",
      "1397/1397 - 2s - loss: 0.0022 - 2s/epoch - 1ms/step\n",
      "Epoch 27/100\n",
      "1397/1397 - 1s - loss: 0.0022 - 1s/epoch - 879us/step\n",
      "Epoch 28/100\n",
      "1397/1397 - 2s - loss: 0.0022 - 2s/epoch - 1ms/step\n",
      "Epoch 29/100\n",
      "1397/1397 - 1s - loss: 0.0022 - 1s/epoch - 922us/step\n",
      "Epoch 30/100\n",
      "1397/1397 - 1s - loss: 0.0022 - 1s/epoch - 919us/step\n",
      "Epoch 31/100\n",
      "1397/1397 - 1s - loss: 0.0022 - 1s/epoch - 884us/step\n",
      "Epoch 32/100\n",
      "1397/1397 - 1s - loss: 0.0022 - 1s/epoch - 949us/step\n",
      "Epoch 33/100\n",
      "1397/1397 - 1s - loss: 0.0022 - 1s/epoch - 925us/step\n",
      "Epoch 34/100\n",
      "1397/1397 - 1s - loss: 0.0022 - 1s/epoch - 892us/step\n",
      "Epoch 35/100\n",
      "1397/1397 - 2s - loss: 0.0022 - 2s/epoch - 1ms/step\n",
      "Epoch 36/100\n",
      "1397/1397 - 1s - loss: 0.0022 - 1s/epoch - 888us/step\n",
      "Epoch 37/100\n",
      "1397/1397 - 1s - loss: 0.0022 - 1s/epoch - 909us/step\n",
      "Epoch 38/100\n",
      "1397/1397 - 1s - loss: 0.0022 - 1s/epoch - 910us/step\n",
      "Epoch 39/100\n",
      "1397/1397 - 1s - loss: 0.0022 - 1s/epoch - 884us/step\n",
      "Epoch 40/100\n",
      "1397/1397 - 1s - loss: 0.0022 - 1s/epoch - 881us/step\n",
      "Epoch 41/100\n",
      "1397/1397 - 1s - loss: 0.0022 - 1s/epoch - 937us/step\n",
      "Epoch 42/100\n",
      "1397/1397 - 1s - loss: 0.0022 - 1s/epoch - 899us/step\n",
      "Epoch 43/100\n",
      "1397/1397 - 1s - loss: 0.0022 - 1s/epoch - 908us/step\n",
      "Epoch 44/100\n",
      "1397/1397 - 1s - loss: 0.0022 - 1s/epoch - 907us/step\n",
      "Epoch 45/100\n",
      "1397/1397 - 1s - loss: 0.0022 - 1s/epoch - 876us/step\n",
      "Epoch 46/100\n",
      "1397/1397 - 1s - loss: 0.0022 - 1s/epoch - 913us/step\n",
      "Epoch 47/100\n",
      "1397/1397 - 1s - loss: 0.0022 - 1s/epoch - 925us/step\n",
      "Epoch 48/100\n",
      "1397/1397 - 1s - loss: 0.0022 - 1s/epoch - 904us/step\n",
      "Epoch 49/100\n",
      "1397/1397 - 1s - loss: 0.0022 - 1s/epoch - 907us/step\n",
      "Epoch 50/100\n",
      "1397/1397 - 1s - loss: 0.0022 - 1s/epoch - 902us/step\n",
      "Epoch 51/100\n",
      "1397/1397 - 1s - loss: 0.0022 - 1s/epoch - 908us/step\n",
      "Epoch 52/100\n",
      "1397/1397 - 1s - loss: 0.0022 - 1s/epoch - 903us/step\n",
      "Epoch 53/100\n",
      "1397/1397 - 1s - loss: 0.0022 - 1s/epoch - 1ms/step\n",
      "Epoch 54/100\n",
      "1397/1397 - 1s - loss: 0.0022 - 1s/epoch - 866us/step\n",
      "Epoch 55/100\n",
      "1397/1397 - 1s - loss: 0.0022 - 1s/epoch - 913us/step\n",
      "Epoch 56/100\n",
      "1397/1397 - 1s - loss: 0.0022 - 1s/epoch - 911us/step\n",
      "Epoch 57/100\n",
      "1397/1397 - 1s - loss: 0.0022 - 1s/epoch - 924us/step\n",
      "Epoch 58/100\n",
      "1397/1397 - 1s - loss: 0.0022 - 1s/epoch - 923us/step\n",
      "Epoch 59/100\n",
      "1397/1397 - 1s - loss: 0.0022 - 1s/epoch - 896us/step\n",
      "Epoch 60/100\n",
      "1397/1397 - 1s - loss: 0.0022 - 1s/epoch - 923us/step\n",
      "Epoch 61/100\n",
      "1397/1397 - 1s - loss: 0.0022 - 1s/epoch - 1ms/step\n",
      "Epoch 62/100\n",
      "1397/1397 - 1s - loss: 0.0022 - 1s/epoch - 876us/step\n",
      "Epoch 63/100\n",
      "1397/1397 - 1s - loss: 0.0022 - 1s/epoch - 908us/step\n",
      "Epoch 64/100\n",
      "1397/1397 - 1s - loss: 0.0022 - 1s/epoch - 904us/step\n",
      "Epoch 65/100\n",
      "1397/1397 - 1s - loss: 0.0022 - 1s/epoch - 901us/step\n",
      "Epoch 66/100\n",
      "1397/1397 - 1s - loss: 0.0022 - 1s/epoch - 915us/step\n",
      "Epoch 67/100\n",
      "1397/1397 - 1s - loss: 0.0022 - 1s/epoch - 929us/step\n",
      "Epoch 68/100\n",
      "1397/1397 - 2s - loss: 0.0022 - 2s/epoch - 1ms/step\n",
      "Epoch 69/100\n",
      "1397/1397 - 1s - loss: 0.0022 - 1s/epoch - 884us/step\n",
      "Epoch 70/100\n",
      "1397/1397 - 1s - loss: 0.0022 - 1s/epoch - 924us/step\n",
      "Epoch 71/100\n",
      "1397/1397 - 1s - loss: 0.0022 - 1s/epoch - 919us/step\n",
      "Epoch 72/100\n",
      "1397/1397 - 1s - loss: 0.0022 - 1s/epoch - 921us/step\n",
      "Epoch 73/100\n",
      "1397/1397 - 2s - loss: 0.0022 - 2s/epoch - 1ms/step\n",
      "Epoch 74/100\n",
      "1397/1397 - 2s - loss: 0.0022 - 2s/epoch - 1ms/step\n",
      "Epoch 75/100\n",
      "1397/1397 - 1s - loss: 0.0022 - 1s/epoch - 979us/step\n",
      "Epoch 76/100\n",
      "1397/1397 - 1s - loss: 0.0022 - 1s/epoch - 1ms/step\n",
      "Epoch 77/100\n",
      "1397/1397 - 2s - loss: 0.0022 - 2s/epoch - 1ms/step\n",
      "Epoch 78/100\n",
      "1397/1397 - 1s - loss: 0.0022 - 1s/epoch - 903us/step\n",
      "Epoch 79/100\n",
      "1397/1397 - 1s - loss: 0.0022 - 1s/epoch - 1ms/step\n",
      "Epoch 80/100\n",
      "1397/1397 - 2s - loss: 0.0022 - 2s/epoch - 1ms/step\n",
      "Epoch 81/100\n",
      "1397/1397 - 1s - loss: 0.0022 - 1s/epoch - 842us/step\n",
      "Epoch 82/100\n",
      "1397/1397 - 1s - loss: 0.0022 - 1s/epoch - 819us/step\n",
      "Epoch 83/100\n",
      "1397/1397 - 1s - loss: 0.0022 - 1s/epoch - 887us/step\n",
      "Epoch 84/100\n",
      "1397/1397 - 1s - loss: 0.0022 - 1s/epoch - 915us/step\n",
      "Epoch 85/100\n",
      "1397/1397 - 1s - loss: 0.0022 - 1s/epoch - 919us/step\n",
      "Epoch 86/100\n",
      "1397/1397 - 1s - loss: 0.0022 - 1s/epoch - 924us/step\n",
      "Epoch 87/100\n",
      "1397/1397 - 1s - loss: 0.0022 - 1s/epoch - 914us/step\n",
      "Epoch 88/100\n",
      "1397/1397 - 1s - loss: 0.0022 - 1s/epoch - 933us/step\n",
      "Epoch 89/100\n",
      "1397/1397 - 1s - loss: 0.0022 - 1s/epoch - 924us/step\n",
      "Epoch 90/100\n",
      "1397/1397 - 1s - loss: 0.0022 - 1s/epoch - 924us/step\n",
      "Epoch 91/100\n",
      "1397/1397 - 1s - loss: 0.0022 - 1s/epoch - 929us/step\n",
      "Epoch 92/100\n",
      "1397/1397 - 1s - loss: 0.0022 - 1s/epoch - 910us/step\n",
      "Epoch 93/100\n",
      "1397/1397 - 1s - loss: 0.0022 - 1s/epoch - 936us/step\n",
      "Epoch 94/100\n",
      "1397/1397 - 1s - loss: 0.0022 - 1s/epoch - 920us/step\n",
      "Epoch 95/100\n",
      "1397/1397 - 1s - loss: 0.0022 - 1s/epoch - 927us/step\n",
      "Epoch 96/100\n",
      "1397/1397 - 1s - loss: 0.0022 - 1s/epoch - 917us/step\n",
      "Epoch 97/100\n",
      "1397/1397 - 1s - loss: 0.0022 - 1s/epoch - 967us/step\n",
      "Epoch 98/100\n",
      "1397/1397 - 1s - loss: 0.0022 - 1s/epoch - 978us/step\n",
      "Epoch 99/100\n",
      "1397/1397 - 1s - loss: 0.0022 - 1s/epoch - 992us/step\n",
      "Epoch 100/100\n",
      "1397/1397 - 2s - loss: 0.0022 - 2s/epoch - 1ms/step\n"
     ]
    },
    {
     "data": {
      "text/plain": [
       "<keras.callbacks.History at 0x1af3137eee0>"
      ]
     },
     "execution_count": 448,
     "metadata": {},
     "output_type": "execute_result"
    }
   ],
   "source": [
    "model = Sequential()\n",
    "model.add(LSTM(4,activation=\"linear\",dropout=0.1,input_shape=(1, look_back)))\n",
    "model.add(Dense(1))\n",
    "model.compile(loss='mean_squared_error', optimizer='adam')\n",
    "model.fit(trainX, trainY, epochs=100, batch_size=4, verbose=2)\n",
    "\n",
    "#dropout,Dense 1->5."
   ]
  },
  {
   "cell_type": "code",
   "execution_count": 451,
   "id": "2bcf7a59",
   "metadata": {},
   "outputs": [],
   "source": [
    "# # make predictions\n",
    "#model = bayes_opt_model_best_model[0]\n",
    "trainPredict = model.predict(trainX)\n",
    "testPredict = model.predict(testX)"
   ]
  },
  {
   "cell_type": "code",
   "execution_count": 452,
   "id": "f16fc6db",
   "metadata": {},
   "outputs": [
    {
     "data": {
      "text/plain": [
       "0.016949153"
      ]
     },
     "execution_count": 452,
     "metadata": {},
     "output_type": "execute_result"
    }
   ],
   "source": [
    "trainY[0]"
   ]
  },
  {
   "cell_type": "code",
   "execution_count": 453,
   "id": "5447c497",
   "metadata": {},
   "outputs": [],
   "source": [
    "# # invert predictions\n",
    "\n",
    "trainPredict = scaler.inverse_transform(trainPredict)\n",
    "trainY = scaler.inverse_transform([trainY])\n",
    "testPredict = scaler.inverse_transform(testPredict)\n",
    "testY = scaler.inverse_transform([testY])\n",
    " \n",
    "\n"
   ]
  },
  {
   "cell_type": "code",
   "execution_count": 454,
   "id": "1a7e3173",
   "metadata": {
    "scrolled": false
   },
   "outputs": [
    {
     "name": "stdout",
     "output_type": "stream",
     "text": [
      "Train Score: 3.11 RMSE\n",
      "Test Score: 3.22 RMSE\n"
     ]
    }
   ],
   "source": [
    "# # calculate root mean squared error\n",
    "\n",
    "trainScore = math.sqrt(mean_squared_error(trainY[0], trainPredict[:,0]))\n",
    "print('Train Score: %.2f RMSE' % (trainScore))\n",
    "testScore = math.sqrt(mean_squared_error(testY[0], testPredict[:,0]))\n",
    "print('Test Score: %.2f RMSE' % (testScore))"
   ]
  },
  {
   "cell_type": "code",
   "execution_count": 455,
   "id": "3a33c5bc",
   "metadata": {},
   "outputs": [],
   "source": [
    "\n",
    "trainPredictPlot = numpy.empty_like(dataset)\n",
    "trainPredictPlot[:, :] = numpy.nan\n",
    "trainPredictPlot[look_back:len(trainPredict)+look_back, :] = trainPredict\n",
    "\n",
    "# # shift test predictions for plotting\n"
   ]
  },
  {
   "cell_type": "code",
   "execution_count": 456,
   "id": "44cf28bc",
   "metadata": {},
   "outputs": [],
   "source": [
    "\n",
    "testPredictPlot = numpy.empty_like(dataset)\n",
    "testPredictPlot[:, :] = numpy.nan\n",
    "testPredictPlot[len(trainPredict)+(look_back*2)+1:len(dataset)-1, :] = testPredict\n",
    "\n",
    "\n",
    "# # plot baseline and predictions\n"
   ]
  },
  {
   "cell_type": "code",
   "execution_count": 457,
   "id": "a0f8c640",
   "metadata": {},
   "outputs": [
    {
     "name": "stderr",
     "output_type": "stream",
     "text": [
      "No handles with labels found to put in legend.\n"
     ]
    },
    {
     "data": {
      "image/png": "[encoded data removed]",
      "text/plain": [
       "<Figure size 432x288 with 1 Axes>"
      ]
     },
     "metadata": {
      "needs_background": "light"
     },
     "output_type": "display_data"
    }
   ],
   "source": [
    "import numpy as np\n",
    "trainPredictPlot = np.empty_like(dataset)\n",
    "trainPredictPlot[:, :] = np.nan\n",
    "trainPredictPlot[look_back:len(trainPredict)+look_back, :] = trainPredict\n",
    "# shift test predictions for plotting\n",
    "testPredictPlot = np.empty_like(dataset)\n",
    "testPredictPlot[:, :] = np.nan\n",
    "testPredictPlot[len(trainPredict)+(look_back*2)+1:len(dataset)-1, :] = testPredict\n",
    "# plot baseline and predictions\n",
    "plt.plot(scaler.inverse_transform(dataset))\n",
    "plt.plot(trainPredictPlot)\n",
    "plt.plot(testPredictPlot)\n",
    "\n",
    "plt.gcf().autofmt_xdate()\n",
    "plt.ylabel('Wind Speed')\n",
    "plt.legend()\n",
    "plt.title('Model Output Validation')\n",
    "plt.show()"
   ]
  },
  {
   "cell_type": "code",
   "execution_count": 472,
   "id": "e7cbd12a",
   "metadata": {
    "scrolled": false
   },
   "outputs": [
    {
     "data": {
      "image/png": "[encoded data removed]",
      "text/plain": [
       "<Figure size 1152x324 with 1 Axes>"
      ]
     },
     "metadata": {
      "needs_background": "light"
     },
     "output_type": "display_data"
    }
   ],
   "source": [
    "\n",
    "plt.plot(trainPredictPlot)\n",
    "plt.plot(testPredictPlot)\n",
    "plt.gcf().set_size_inches(16, 4.5)\n",
    "plt.ylabel('Wind Speed')\n",
    "plt.xlabel(\"Index\")\n",
    "plt.xscale(\"linear\")\n",
    "plt.show() #Predicted Plot"
   ]
  },
  {
   "cell_type": "code",
   "execution_count": 476,
   "id": "8c3917fc",
   "metadata": {},
   "outputs": [
    {
     "data": {
      "image/png": "[encoded data removed]",
      "text/plain": [
       "<Figure size 1152x324 with 1 Axes>"
      ]
     },
     "metadata": {
      "needs_background": "light"
     },
     "output_type": "display_data"
    }
   ],
   "source": [
    "plt.plot(scaler.inverse_transform(dataset))\n",
    "plt.gcf().set_size_inches(16, 4.5) #Actual Dataset"
   ]
  },
  {
   "cell_type": "code",
   "execution_count": 462,
   "id": "f99a0718",
   "metadata": {},
   "outputs": [
    {
     "name": "stdout",
     "output_type": "stream",
     "text": [
      "Accuracy Score: 52.00180744272927\n"
     ]
    }
   ],
   "source": [
    "AC=(test_Y[0]/(test_Y[0]+testPredict[:,0]))*100\n",
    "print(\"Accuracy Score:\",sum(AC)/len(AC))"
   ]
  },
  {
   "cell_type": "code",
   "execution_count": 463,
   "id": "1570c8c8",
   "metadata": {},
   "outputs": [
    {
     "name": "stdout",
     "output_type": "stream",
     "text": [
      "Accuracy Score: 47.982198822885024\n"
     ]
    }
   ],
   "source": [
    "AC=(trainY[0]/(trainY[0]+trainPredict[:,0]))*100\n",
    "print(\"Accuracy Score:\",sum(AC)/len(AC))"
   ]
  },
  {
   "cell_type": "code",
   "execution_count": null,
   "id": "a698b31c",
   "metadata": {},
   "outputs": [],
   "source": []
  },
  {
   "cell_type": "code",
   "execution_count": null,
   "id": "17247815",
   "metadata": {},
   "outputs": [],
   "source": []
  },
  {
   "cell_type": "markdown",
   "id": "69caf31d",
   "metadata": {},
   "source": [
    "# Future scope"
   ]
  },
  {
   "cell_type": "code",
   "execution_count": 403,
   "id": "5d8e5c57",
   "metadata": {
    "scrolled": true
   },
   "outputs": [],
   "source": [
    "from tensorflow import keras\n",
    "from kerastuner.tuners import BayesianOptimization\n",
    "\n",
    "n_input = 1\n",
    "def build_model(hp):\n",
    "    model = Sequential()\n",
    "    model.add(LSTM(units=hp.Int('units',min_value=1,\n",
    "                                    max_value=512,\n",
    "                                    step=32), \n",
    "                input_shape=(n_input, 1)))\n",
    "    model.add(Dense(units=hp.Int('units',min_value=32,\n",
    "                                    max_value=512,\n",
    "                                    step=32)))\n",
    "    model.add(Dense(1))\n",
    "    model.compile(loss='mse', metrics=['mse'], optimizer=keras.optimizers.Adam(\n",
    "        hp.Choice('learning_rate',\n",
    "                  values=[1e-2, 1e-3, 1e-4])))\n",
    "    return model\n",
    "\n"
   ]
  },
  {
   "cell_type": "code",
   "execution_count": 404,
   "id": "6f4ce329",
   "metadata": {
    "scrolled": true
   },
   "outputs": [
    {
     "name": "stdout",
     "output_type": "stream",
     "text": [
      "Trial 5 Complete [00h 00m 23s]\n",
      "mse: 0.001958097913302481\n",
      "\n",
      "Best mse So Far: 0.0019551882287487388\n",
      "Total elapsed time: 00h 03m 39s\n",
      "INFO:tensorflow:Oracle triggered exit\n"
     ]
    }
   ],
   "source": [
    "bayesian_opt_tuner = BayesianOptimization(\n",
    "    build_model,\n",
    "    objective='mse',\n",
    "    max_trials=5,\n",
    "    executions_per_trial=2,\n",
    "    directory=os.path.normpath('C:/keras_tuning'),\n",
    "    project_name='kerastuner_bayesian_poc',\n",
    "    overwrite=True)\n",
    "\n",
    "bayesian_opt_tuner.search(trainX, trainY,epochs=32,validation_data=(testX, testY),\n",
    "     validation_split=0.30,verbose=1)\n",
    "\n",
    "\n",
    "bayes_opt_model_best_model = bayesian_opt_tuner.get_best_models()\n"
   ]
  },
  {
   "cell_type": "code",
   "execution_count": 401,
   "id": "bc3c7ae7",
   "metadata": {
    "scrolled": false
   },
   "outputs": [
    {
     "data": {
      "text/plain": [
       "1"
      ]
     },
     "execution_count": 401,
     "metadata": {},
     "output_type": "execute_result"
    }
   ],
   "source": [
    "len(bayes_opt_model_best_model)"
   ]
  },
  {
   "cell_type": "code",
   "execution_count": null,
   "id": "8ff8be68",
   "metadata": {},
   "outputs": [],
   "source": []
  }
 ],
 "metadata": {
  "kernelspec": {
   "display_name": "Python 3 (ipykernel)",
   "language": "python",
   "name": "python3"
  },
  "language_info": {
   "codemirror_mode": {
    "name": "ipython",
    "version": 3
   },
   "file_extension": ".py",
   "mimetype": "text/x-python",
   "name": "python",
   "nbconvert_exporter": "python",
   "pygments_lexer": "ipython3",
   "version": "3.9.6"
  }
 },
 "nbformat": 4,
 "nbformat_minor": 5
}
