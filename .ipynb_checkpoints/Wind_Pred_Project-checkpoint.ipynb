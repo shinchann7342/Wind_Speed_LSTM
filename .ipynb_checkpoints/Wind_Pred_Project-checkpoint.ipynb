{
 "cells": [
  {
   "cell_type": "code",
   "execution_count": null,
   "id": "58af2549",
   "metadata": {},
   "outputs": [],
   "source": [
    "https://www.youtube.com/watch?v=S8tpSG6Q2H0"
   ]
  },
  {
   "cell_type": "code",
   "execution_count": 1,
   "id": "c56f9643",
   "metadata": {},
   "outputs": [],
   "source": [
    "import pandas as pd\n",
    "from bs4 import BeautifulSoup\n",
    "from bs4.element import Comment\n",
    "import requests\n",
    "import urllib.request\n",
    "import cssutils\n",
    "import re\n",
    "from selenium import webdriver\n",
    "from selenium.webdriver.support.ui import Select\n",
    "import time as tim\n",
    "from datetime import datetime\n",
    "import dateutil.parser as parser\n"
   ]
  },
  {
   "cell_type": "code",
   "execution_count": 61,
   "id": "1e2cf0b1",
   "metadata": {},
   "outputs": [],
   "source": [
    "import numpy\n",
    "import matplotlib.pyplot as plt\n",
    "from pandas import read_csv\n",
    "import math\n",
    "from keras.models import Sequential\n",
    "from keras.layers import Dense\n",
    "from keras.layers import LSTM\n",
    "from sklearn.preprocessing import MinMaxScaler\n",
    "from sklearn.metrics import mean_squared_error\n",
    "from keras.preprocessing.sequence import TimeseriesGenerator\n",
    "import tensorflow as tf\n",
    "from tensorflow import keras"
   ]
  },
  {
   "cell_type": "code",
   "execution_count": 63,
   "id": "301dc71d",
   "metadata": {},
   "outputs": [
    {
     "name": "stdout",
     "output_type": "stream",
     "text": [
      "GPU: 0\n"
     ]
    }
   ],
   "source": [
    "print(\"GPU:\",len(tf.config.experimental.list_physical_devices('GPU')))"
   ]
  },
  {
   "cell_type": "code",
   "execution_count": null,
   "id": "94806d7e",
   "metadata": {},
   "outputs": [],
   "source": [
    "df=pd.DataFrame(read_csv(\"VOMM.csv\"))"
   ]
  },
  {
   "cell_type": "code",
   "execution_count": null,
   "id": "c44069b9",
   "metadata": {},
   "outputs": [],
   "source": [
    "dt=[]\n",
    "for i in df['valid']:\n",
    "    dt.append(i.split(\" \")[0])\n",
    "df[\"Date\"]=dt"
   ]
  },
  {
   "cell_type": "code",
   "execution_count": null,
   "id": "52aee6b2",
   "metadata": {},
   "outputs": [],
   "source": [
    "tm=[]\n",
    "for i in df['valid']:\n",
    "    tm.append(int(i.split(\" \")[-1].replace(\":\",\"\")))\n",
    "df[\"Time\"]=tm"
   ]
  },
  {
   "cell_type": "code",
   "execution_count": null,
   "id": "cea895c2",
   "metadata": {
    "scrolled": true
   },
   "outputs": [],
   "source": [
    "df1=df[104344:]\n",
    "df1"
   ]
  },
  {
   "cell_type": "code",
   "execution_count": null,
   "id": "73e9e317",
   "metadata": {},
   "outputs": [],
   "source": [
    "mean_value=df['sped'].mean()\n",
    "df['sped'].fillna(value=mean_value, inplace=True)"
   ]
  },
  {
   "cell_type": "code",
   "execution_count": null,
   "id": "3d9c4f3a",
   "metadata": {},
   "outputs": [],
   "source": [
    "df1['Speed']=df1['sped'].mask(df1['sped']<=0.000000,mean_value)"
   ]
  },
  {
   "cell_type": "code",
   "execution_count": null,
   "id": "644b08dd",
   "metadata": {},
   "outputs": [],
   "source": [
    "df1['Speed']"
   ]
  },
  {
   "cell_type": "code",
   "execution_count": null,
   "id": "ab43b7b4",
   "metadata": {},
   "outputs": [],
   "source": [
    "dataset=(df['sped'])\n",
    "dataset = dataset"
   ]
  },
  {
   "cell_type": "code",
   "execution_count": null,
   "id": "1b4837c5",
   "metadata": {
    "scrolled": false
   },
   "outputs": [],
   "source": [
    "print(df1['Time'].value_counts())"
   ]
  },
  {
   "cell_type": "code",
   "execution_count": null,
   "id": "27d8bff6",
   "metadata": {},
   "outputs": [],
   "source": [
    "df2=df1.reset_index(drop=True)\n",
    "df2"
   ]
  },
  {
   "cell_type": "code",
   "execution_count": null,
   "id": "8ab0a5ce",
   "metadata": {},
   "outputs": [],
   "source": [
    "for i in range(len(df2['Time'])):\n",
    "    k=0\n",
    "    if(629>=int(df2['Time'][i])>=600):\n",
    "        df_new.append(df2.loc[[i]])\n",
    "        k=k+1"
   ]
  },
  {
   "cell_type": "code",
   "execution_count": null,
   "id": "34ad3c66",
   "metadata": {
    "scrolled": true
   },
   "outputs": [],
   "source": [
    "for i in range(len(df2['Time'])):\n",
    "    if(629>=int(df2['Time'][i])>=600):\n",
    "        print(df2.loc[i])"
   ]
  },
  {
   "cell_type": "code",
   "execution_count": null,
   "id": "d54f6393",
   "metadata": {
    "scrolled": true
   },
   "outputs": [],
   "source": [
    "df_new_f= df_new[df_new['Time'] >=600 ]"
   ]
  },
  {
   "cell_type": "code",
   "execution_count": null,
   "id": "fb9d8f32",
   "metadata": {},
   "outputs": [],
   "source": [
    "df_new_f=df_new_f[629>=df_new_f['Time'] ]"
   ]
  },
  {
   "cell_type": "code",
   "execution_count": null,
   "id": "4a643647",
   "metadata": {},
   "outputs": [],
   "source": [
    "df_Final=df_new_f.reset_index(drop=True)"
   ]
  },
  {
   "cell_type": "code",
   "execution_count": null,
   "id": "50aa95d3",
   "metadata": {},
   "outputs": [],
   "source": [
    "df_Final"
   ]
  },
  {
   "cell_type": "code",
   "execution_count": null,
   "id": "55cbef6e",
   "metadata": {},
   "outputs": [],
   "source": [
    "df_Final.to_csv(\"Final_Dataset_120522.csv\",index=0)"
   ]
  },
  {
   "cell_type": "code",
   "execution_count": null,
   "id": "958c4ac2",
   "metadata": {},
   "outputs": [],
   "source": [
    "df1x_fin.plot(x='Date',y='sped',kind=\"bar\")"
   ]
  },
  {
   "cell_type": "code",
   "execution_count": null,
   "id": "fd6911d8",
   "metadata": {},
   "outputs": [],
   "source": [
    "25000-24271.8"
   ]
  },
  {
   "cell_type": "code",
   "execution_count": null,
   "id": "de3ec51d",
   "metadata": {},
   "outputs": [],
   "source": [
    "df1x_fin.to_csv(\"Final_DATASET_10_05_2022.csv\")"
   ]
  },
  {
   "cell_type": "code",
   "execution_count": null,
   "id": "22e1d05e",
   "metadata": {},
   "outputs": [],
   "source": [
    "dataset = df1x_fin.values\n",
    "dataset = dataset.astype('float32')"
   ]
  },
  {
   "cell_type": "code",
   "execution_count": null,
   "id": "85cb34e3",
   "metadata": {},
   "outputs": [],
   "source": [
    "df1=df1.set_index('Date')"
   ]
  },
  {
   "cell_type": "code",
   "execution_count": null,
   "id": "f5691b6b",
   "metadata": {
    "scrolled": true
   },
   "outputs": [],
   "source": [
    "df1"
   ]
  },
  {
   "cell_type": "code",
   "execution_count": null,
   "id": "4c1b8881",
   "metadata": {},
   "outputs": [],
   "source": [
    "#  ,index_col='Date',parse_dates=True"
   ]
  },
  {
   "cell_type": "code",
   "execution_count": 3,
   "id": "6abe33f9",
   "metadata": {},
   "outputs": [],
   "source": [
    "df=pd.read_csv(\"Final_Dataset_120522.csv\",index_col='Date',parse_dates=True)\n"
   ]
  },
  {
   "cell_type": "code",
   "execution_count": 4,
   "id": "16b690c8",
   "metadata": {},
   "outputs": [],
   "source": [
    "del df['Time']"
   ]
  },
  {
   "cell_type": "code",
   "execution_count": 5,
   "id": "fefc245a",
   "metadata": {
    "scrolled": true
   },
   "outputs": [
    {
     "data": {
      "text/html": [
       "<div>\n",
       "<style scoped>\n",
       "    .dataframe tbody tr th:only-of-type {\n",
       "        vertical-align: middle;\n",
       "    }\n",
       "\n",
       "    .dataframe tbody tr th {\n",
       "        vertical-align: top;\n",
       "    }\n",
       "\n",
       "    .dataframe thead th {\n",
       "        text-align: right;\n",
       "    }\n",
       "</style>\n",
       "<table border=\"1\" class=\"dataframe\">\n",
       "  <thead>\n",
       "    <tr style=\"text-align: right;\">\n",
       "      <th></th>\n",
       "      <th>Speed</th>\n",
       "    </tr>\n",
       "    <tr>\n",
       "      <th>Date</th>\n",
       "      <th></th>\n",
       "    </tr>\n",
       "  </thead>\n",
       "  <tbody>\n",
       "    <tr>\n",
       "      <th>2001-01-02</th>\n",
       "      <td>2.30</td>\n",
       "    </tr>\n",
       "    <tr>\n",
       "      <th>2001-01-03</th>\n",
       "      <td>2.30</td>\n",
       "    </tr>\n",
       "    <tr>\n",
       "      <th>2001-01-04</th>\n",
       "      <td>9.20</td>\n",
       "    </tr>\n",
       "    <tr>\n",
       "      <th>2001-01-05</th>\n",
       "      <td>9.20</td>\n",
       "    </tr>\n",
       "    <tr>\n",
       "      <th>2001-01-06</th>\n",
       "      <td>9.20</td>\n",
       "    </tr>\n",
       "    <tr>\n",
       "      <th>...</th>\n",
       "      <td>...</td>\n",
       "    </tr>\n",
       "    <tr>\n",
       "      <th>2022-04-10</th>\n",
       "      <td>12.65</td>\n",
       "    </tr>\n",
       "    <tr>\n",
       "      <th>2022-04-11</th>\n",
       "      <td>13.80</td>\n",
       "    </tr>\n",
       "    <tr>\n",
       "      <th>2022-04-12</th>\n",
       "      <td>9.20</td>\n",
       "    </tr>\n",
       "    <tr>\n",
       "      <th>2022-04-13</th>\n",
       "      <td>13.80</td>\n",
       "    </tr>\n",
       "    <tr>\n",
       "      <th>2022-04-14</th>\n",
       "      <td>6.90</td>\n",
       "    </tr>\n",
       "  </tbody>\n",
       "</table>\n",
       "<p>7984 rows × 1 columns</p>\n",
       "</div>"
      ],
      "text/plain": [
       "            Speed\n",
       "Date             \n",
       "2001-01-02   2.30\n",
       "2001-01-03   2.30\n",
       "2001-01-04   9.20\n",
       "2001-01-05   9.20\n",
       "2001-01-06   9.20\n",
       "...           ...\n",
       "2022-04-10  12.65\n",
       "2022-04-11  13.80\n",
       "2022-04-12   9.20\n",
       "2022-04-13  13.80\n",
       "2022-04-14   6.90\n",
       "\n",
       "[7984 rows x 1 columns]"
      ]
     },
     "execution_count": 5,
     "metadata": {},
     "output_type": "execute_result"
    }
   ],
   "source": [
    "df"
   ]
  },
  {
   "cell_type": "code",
   "execution_count": null,
   "id": "b3d05d9f",
   "metadata": {},
   "outputs": [],
   "source": [
    "df['Date'] = pd.to_datetime(df.index)"
   ]
  },
  {
   "cell_type": "code",
   "execution_count": 6,
   "id": "d5015bed",
   "metadata": {},
   "outputs": [
    {
     "data": {
      "image/png": "[encoded data removed]",
      "text/plain": [
       "<Figure size 432x288 with 1 Axes>"
      ]
     },
     "metadata": {
      "needs_background": "light"
     },
     "output_type": "display_data"
    }
   ],
   "source": [
    "plt.plot(df)\n",
    "plt.gcf().autofmt_xdate()\n",
    "plt.show()"
   ]
  },
  {
   "cell_type": "code",
   "execution_count": 7,
   "id": "33b35acf",
   "metadata": {},
   "outputs": [],
   "source": [
    "from statsmodels.tsa.seasonal import seasonal_decompose"
   ]
  },
  {
   "cell_type": "code",
   "execution_count": null,
   "id": "785ba047",
   "metadata": {},
   "outputs": [],
   "source": [
    "df"
   ]
  },
  {
   "cell_type": "code",
   "execution_count": 8,
   "id": "82e0b314",
   "metadata": {},
   "outputs": [
    {
     "name": "stdout",
     "output_type": "stream",
     "text": [
      "            Speed\n",
      "Date             \n",
      "2001-01-02   2.30\n",
      "2001-01-03   2.30\n",
      "2001-01-04   9.20\n",
      "2001-01-05   9.20\n",
      "2001-01-06   9.20\n",
      "...           ...\n",
      "2022-04-10  12.65\n",
      "2022-04-11  13.80\n",
      "2022-04-12   9.20\n",
      "2022-04-13  13.80\n",
      "2022-04-14   6.90\n",
      "\n",
      "[7984 rows x 1 columns]\n"
     ]
    }
   ],
   "source": [
    "df.sort_index(inplace=True)\n",
    "print(df)"
   ]
  },
  {
   "cell_type": "code",
   "execution_count": 9,
   "id": "978d964e",
   "metadata": {},
   "outputs": [
    {
     "data": {
      "image/png": "[encoded data removed]",
      "text/plain": [
       "<Figure size 432x288 with 4 Axes>"
      ]
     },
     "execution_count": 9,
     "metadata": {},
     "output_type": "execute_result"
    },
    {
     "data": {
      "image/png": "[encoded data removed]",
      "text/plain": [
       "<Figure size 432x288 with 4 Axes>"
      ]
     },
     "metadata": {
      "needs_background": "light"
     },
     "output_type": "display_data"
    }
   ],
   "source": [
    "result=seasonal_decompose(df,period=1)\n",
    "result.plot()"
   ]
  },
  {
   "cell_type": "code",
   "execution_count": 10,
   "id": "02106f8e",
   "metadata": {},
   "outputs": [
    {
     "data": {
      "image/png": "[encoded data removed]",
      "text/plain": [
       "<Figure size 432x288 with 4 Axes>"
      ]
     },
     "metadata": {
      "needs_background": "light"
     },
     "output_type": "display_data"
    }
   ],
   "source": [
    "import statsmodels as sm\n",
    "import statsmodels.api as sm\n",
    "import matplotlib\n",
    "decomposition = sm.tsa.seasonal_decompose(df, model = 'additive',period=1)\n",
    "fig = decomposition.plot()\n",
    "matplotlib.rcParams['figure.figsize'] = [9.0,5.0]"
   ]
  },
  {
   "cell_type": "code",
   "execution_count": null,
   "id": "cc2edb7f",
   "metadata": {},
   "outputs": [],
   "source": [
    "df"
   ]
  },
  {
   "cell_type": "code",
   "execution_count": 11,
   "id": "22ed6f6b",
   "metadata": {
    "scrolled": true
   },
   "outputs": [],
   "source": [
    "dataset=df\n",
    "train_size = int(len(dataset) * 0.67)\n",
    "test_size = len(dataset) - train_size\n",
    "train, test = dataset[0:train_size], dataset[train_size:len(dataset)]"
   ]
  },
  {
   "cell_type": "code",
   "execution_count": 12,
   "id": "9ed0ea7b",
   "metadata": {},
   "outputs": [],
   "source": [
    "scaler=MinMaxScaler()"
   ]
  },
  {
   "cell_type": "code",
   "execution_count": 13,
   "id": "7856db24",
   "metadata": {
    "scrolled": true
   },
   "outputs": [],
   "source": [
    "train_scld=scaler.fit_transform(train)\n",
    "test_scld=scaler.fit_transform(test)"
   ]
  },
  {
   "cell_type": "code",
   "execution_count": null,
   "id": "4f18fb9b",
   "metadata": {},
   "outputs": [],
   "source": [
    "train"
   ]
  },
  {
   "cell_type": "code",
   "execution_count": 48,
   "id": "04e70e4e",
   "metadata": {},
   "outputs": [],
   "source": [
    "n_input=366 #3 was the prev input\n",
    "n_features=1"
   ]
  },
  {
   "cell_type": "code",
   "execution_count": 49,
   "id": "df077e06",
   "metadata": {},
   "outputs": [],
   "source": [
    "generator = TimeseriesGenerator(train_scld, train_scld, length=n_input, batch_size=1)#,stride=3"
   ]
  },
  {
   "cell_type": "code",
   "execution_count": null,
   "id": "a6b91f12",
   "metadata": {},
   "outputs": [],
   "source": [
    "# for i in range(100):\n",
    "#     X,y = generator[i]\n",
    "#     print(y)\n",
    "\n",
    "# # print(f'Given the Array: \\n{X.flatten()}')\n"
   ]
  },
  {
   "cell_type": "code",
   "execution_count": 50,
   "id": "81b653c1",
   "metadata": {},
   "outputs": [],
   "source": [
    "from keras.models import Sequential\n",
    "from keras.layers import Dense\n",
    "from keras.layers import LSTM"
   ]
  },
  {
   "cell_type": "code",
   "execution_count": 51,
   "id": "a990fc91",
   "metadata": {},
   "outputs": [],
   "source": [
    "model = Sequential()\n",
    "model.add(LSTM(100, activation='relu', input_shape=(n_input, n_features)))\n",
    "model.add(Dense(1))\n",
    "model.compile(optimizer='adam', loss='mse')"
   ]
  },
  {
   "cell_type": "code",
   "execution_count": 52,
   "id": "33e38362",
   "metadata": {},
   "outputs": [
    {
     "name": "stdout",
     "output_type": "stream",
     "text": [
      "Model: \"sequential_1\"\n",
      "_________________________________________________________________\n",
      " Layer (type)                Output Shape              Param #   \n",
      "=================================================================\n",
      " lstm_1 (LSTM)               (None, 100)               40800     \n",
      "                                                                 \n",
      " dense_1 (Dense)             (None, 1)                 101       \n",
      "                                                                 \n",
      "=================================================================\n",
      "Total params: 40,901\n",
      "Trainable params: 40,901\n",
      "Non-trainable params: 0\n",
      "_________________________________________________________________\n"
     ]
    }
   ],
   "source": [
    "model.summary()"
   ]
  },
  {
   "cell_type": "code",
   "execution_count": 76,
   "id": "4d81621d",
   "metadata": {
    "scrolled": true
   },
   "outputs": [
    {
     "name": "stdout",
     "output_type": "stream",
     "text": [
      "Epoch 1/50\n",
      "4983/4983 [==============================] - 714s 143ms/step - loss: 0.0019\n",
      "Epoch 2/50\n",
      "4983/4983 [==============================] - 680s 137ms/step - loss: 0.0019\n",
      "Epoch 3/50\n",
      "4983/4983 [==============================] - 672s 135ms/step - loss: 0.0019\n",
      "Epoch 4/50\n",
      "4983/4983 [==============================] - 670s 135ms/step - loss: 0.0018\n",
      "Epoch 5/50\n",
      "4983/4983 [==============================] - 661s 133ms/step - loss: 0.0019\n",
      "Epoch 6/50\n",
      "4983/4983 [==============================] - 674s 135ms/step - loss: 0.0018\n",
      "Epoch 7/50\n",
      "4983/4983 [==============================] - 675s 135ms/step - loss: 0.0018\n",
      "Epoch 8/50\n",
      "4983/4983 [==============================] - 673s 135ms/step - loss: 0.0018\n",
      "Epoch 9/50\n",
      "4983/4983 [==============================] - 665s 133ms/step - loss: 0.0018\n",
      "Epoch 10/50\n",
      "4983/4983 [==============================] - 674s 135ms/step - loss: 0.0018\n",
      "Epoch 11/50\n",
      "4983/4983 [==============================] - 673s 135ms/step - loss: 0.0018\n",
      "Epoch 12/50\n",
      "4983/4983 [==============================] - 676s 136ms/step - loss: 0.0018\n",
      "Epoch 13/50\n",
      "4983/4983 [==============================] - 668s 134ms/step - loss: 0.0018\n",
      "Epoch 14/50\n",
      "4983/4983 [==============================] - 677s 136ms/step - loss: 0.0018\n",
      "Epoch 15/50\n",
      "4983/4983 [==============================] - 678s 136ms/step - loss: 0.0018\n",
      "Epoch 16/50\n",
      "4983/4983 [==============================] - 672s 135ms/step - loss: 0.0018\n",
      "Epoch 17/50\n",
      "4983/4983 [==============================] - 685s 137ms/step - loss: 0.0018\n",
      "Epoch 18/50\n",
      "4983/4983 [==============================] - 682s 137ms/step - loss: 0.0018\n",
      "Epoch 19/50\n",
      "4983/4983 [==============================] - 673s 135ms/step - loss: 0.0018\n",
      "Epoch 20/50\n",
      "4983/4983 [==============================] - 688s 138ms/step - loss: 0.0018\n",
      "Epoch 21/50\n",
      "4983/4983 [==============================] - 761s 153ms/step - loss: 0.0018\n",
      "Epoch 22/50\n",
      "4983/4983 [==============================] - 756s 152ms/step - loss: 0.0018\n",
      "Epoch 23/50\n",
      "4983/4983 [==============================] - 758s 152ms/step - loss: 0.0018\n",
      "Epoch 24/50\n",
      "4983/4983 [==============================] - 722s 145ms/step - loss: 0.0018\n",
      "Epoch 25/50\n",
      "4983/4983 [==============================] - 753s 151ms/step - loss: 0.0018\n",
      "Epoch 26/50\n",
      "4983/4983 [==============================] - 756s 152ms/step - loss: 0.0018\n",
      "Epoch 27/50\n",
      "4983/4983 [==============================] - 748s 150ms/step - loss: 0.0018\n",
      "Epoch 28/50\n",
      "4983/4983 [==============================] - 675s 135ms/step - loss: 0.0018\n",
      "Epoch 29/50\n",
      "4983/4983 [==============================] - 679s 136ms/step - loss: 0.0018\n",
      "Epoch 30/50\n",
      "4983/4983 [==============================] - 683s 137ms/step - loss: 0.0018\n",
      "Epoch 31/50\n",
      "4983/4983 [==============================] - 682s 137ms/step - loss: 0.0018\n",
      "Epoch 32/50\n",
      "4983/4983 [==============================] - 688s 138ms/step - loss: 0.0018\n",
      "Epoch 33/50\n",
      "4983/4983 [==============================] - 719s 144ms/step - loss: 0.0018\n",
      "Epoch 34/50\n",
      "4983/4983 [==============================] - 684s 137ms/step - loss: 0.0018\n",
      "Epoch 35/50\n",
      "4983/4983 [==============================] - 756s 152ms/step - loss: 0.0018\n",
      "Epoch 36/50\n",
      "4983/4983 [==============================] - 685s 137ms/step - loss: 0.0017\n",
      "Epoch 37/50\n",
      "4983/4983 [==============================] - 685s 137ms/step - loss: 0.0017\n",
      "Epoch 38/50\n",
      "4983/4983 [==============================] - 678s 136ms/step - loss: 0.0017\n",
      "Epoch 39/50\n",
      "4983/4983 [==============================] - 690s 138ms/step - loss: 0.0017\n",
      "Epoch 40/50\n",
      "4983/4983 [==============================] - 689s 138ms/step - loss: 0.0017\n",
      "Epoch 41/50\n",
      "4983/4983 [==============================] - 687s 138ms/step - loss: 0.0017\n",
      "Epoch 42/50\n",
      "4983/4983 [==============================] - 688s 138ms/step - loss: 0.0017\n",
      "Epoch 43/50\n",
      "4983/4983 [==============================] - 683s 137ms/step - loss: 0.0017\n",
      "Epoch 44/50\n",
      "4983/4983 [==============================] - 684s 137ms/step - loss: 0.0017\n",
      "Epoch 45/50\n",
      "4983/4983 [==============================] - 707s 142ms/step - loss: 0.0017\n",
      "Epoch 46/50\n",
      "4983/4983 [==============================] - 678s 136ms/step - loss: 0.0017\n",
      "Epoch 47/50\n",
      "4983/4983 [==============================] - 700s 140ms/step - loss: 0.0017\n",
      "Epoch 48/50\n",
      "4983/4983 [==============================] - 682s 137ms/step - loss: 0.0017\n",
      "Epoch 49/50\n",
      "4983/4983 [==============================] - 698s 140ms/step - loss: 0.0017\n",
      "Epoch 50/50\n",
      "4983/4983 [==============================] - 695s 140ms/step - loss: 0.0017\n",
      "Wall time: 9h 38min 2s\n"
     ]
    },
    {
     "data": {
      "text/plain": [
       "<keras.callbacks.History at 0x16a79290e80>"
      ]
     },
     "execution_count": 76,
     "metadata": {},
     "output_type": "execute_result"
    }
   ],
   "source": [
    "%%time\n",
    "model.fit(generator,epochs=50)"
   ]
  },
  {
   "cell_type": "code",
   "execution_count": 77,
   "id": "aa9fc362",
   "metadata": {
    "scrolled": false
   },
   "outputs": [
    {
     "data": {
      "text/plain": [
       "[<matplotlib.lines.Line2D at 0x167abc285e0>]"
      ]
     },
     "execution_count": 77,
     "metadata": {},
     "output_type": "execute_result"
    },
    {
     "data": {
      "image/png": "[encoded data removed]",
      "text/plain": [
       "<Figure size 648x360 with 1 Axes>"
      ]
     },
     "metadata": {
      "needs_background": "light"
     },
     "output_type": "display_data"
    }
   ],
   "source": [
    "loss_per_epoch = model.history.history['loss']\n",
    "plt.plot(range(len(loss_per_epoch)),loss_per_epoch)"
   ]
  },
  {
   "cell_type": "code",
   "execution_count": 89,
   "id": "a0ca12e9",
   "metadata": {},
   "outputs": [],
   "source": [
    "last_train_batch =train_scld\n"
   ]
  },
  {
   "cell_type": "code",
   "execution_count": 97,
   "id": "31121bb4",
   "metadata": {},
   "outputs": [
    {
     "data": {
      "text/plain": [
       "array([[0.10181503],\n",
       "       [0.08424638],\n",
       "       [0.1225876 ]], dtype=float32)"
      ]
     },
     "execution_count": 97,
     "metadata": {},
     "output_type": "execute_result"
    }
   ],
   "source": [
    "last_train_batch = last_train_batch.reshape(( 3,1783, n_features))\n",
    "model.predict(last_train_batch)"
   ]
  },
  {
   "cell_type": "code",
   "execution_count": 94,
   "id": "6af1821c",
   "metadata": {},
   "outputs": [
    {
     "data": {
      "text/plain": [
       "1783.0"
      ]
     },
     "execution_count": 94,
     "metadata": {},
     "output_type": "execute_result"
    }
   ],
   "source": [
    "5349/3"
   ]
  },
  {
   "cell_type": "code",
   "execution_count": 98,
   "id": "82001bbe",
   "metadata": {},
   "outputs": [],
   "source": [
    "import numpy as np\n",
    "test_predictions = []\n",
    "\n",
    "first_eval_batch = train_scld[-n_input:]\n",
    "current_batch = first_eval_batch.reshape((1, n_input, n_features))\n",
    "\n",
    "for i in range(len(test)):\n",
    "    \n",
    "    # get the prediction value for the first batch\n",
    "    current_pred = model.predict(current_batch)[0]\n",
    "    \n",
    "    # append the prediction into the array\n",
    "    test_predictions.append(current_pred) \n",
    "    \n",
    "    # use the prediction to update the batch and remove the first value\n",
    "    current_batch = np.append(current_batch[:,1:,:],[[current_pred]],axis=1)"
   ]
  },
  {
   "cell_type": "code",
   "execution_count": null,
   "id": "8a8d0a81",
   "metadata": {},
   "outputs": [],
   "source": [
    "test_predictions"
   ]
  },
  {
   "cell_type": "code",
   "execution_count": 99,
   "id": "23895751",
   "metadata": {},
   "outputs": [
    {
     "name": "stderr",
     "output_type": "stream",
     "text": [
      "c:\\users\\ksvas\\appdata\\local\\programs\\python\\python39\\lib\\site-packages\\pandas\\core\\frame.py:3607: SettingWithCopyWarning: \n",
      "A value is trying to be set on a copy of a slice from a DataFrame.\n",
      "Try using .loc[row_indexer,col_indexer] = value instead\n",
      "\n",
      "See the caveats in the documentation: https://pandas.pydata.org/pandas-docs/stable/user_guide/indexing.html#returning-a-view-versus-a-copy\n",
      "  self._set_item(key, value)\n"
     ]
    },
    {
     "data": {
      "text/plain": [
       "<AxesSubplot:xlabel='Date'>"
      ]
     },
     "execution_count": 99,
     "metadata": {},
     "output_type": "execute_result"
    },
    {
     "data": {
      "image/png": "[encoded data removed]",
      "text/plain": [
       "<Figure size 1008x360 with 1 Axes>"
      ]
     },
     "metadata": {
      "needs_background": "light"
     },
     "output_type": "display_data"
    }
   ],
   "source": [
    "true_predictions = scaler.inverse_transform(test_predictions)\n",
    "test['Predictions'] = true_predictions\n",
    "test.plot(figsize=(14,5))"
   ]
  },
  {
   "cell_type": "code",
   "execution_count": 100,
   "id": "932b91c5",
   "metadata": {},
   "outputs": [
    {
     "data": {
      "text/plain": [
       "Text(0, 0.5, 'Wind Speed in KPH')"
      ]
     },
     "execution_count": 100,
     "metadata": {},
     "output_type": "execute_result"
    },
    {
     "data": {
      "image/png": "[encoded data removed]",
      "text/plain": [
       "<Figure size 648x360 with 1 Axes>"
      ]
     },
     "metadata": {
      "needs_background": "light"
     },
     "output_type": "display_data"
    }
   ],
   "source": [
    "# test['Predictions'][-365:].plot(figsize=(14,5))\n",
    "\n",
    "plt.plot(test['Predictions'])\n",
    "plt.title('Forecasted Output')\n",
    "plt.xlabel('Date')\n",
    "plt.ylabel('Wind Speed in KPH')\n",
    "# plt.savefig('Predictions.jpg')"
   ]
  },
  {
   "cell_type": "code",
   "execution_count": 102,
   "id": "8a5ea778",
   "metadata": {},
   "outputs": [
    {
     "name": "stdout",
     "output_type": "stream",
     "text": [
      "3.1657075868598317\n"
     ]
    }
   ],
   "source": [
    "from sklearn.metrics import mean_squared_error\n",
    "from math import sqrt\n",
    "rmse=sqrt(mean_squared_error(test['Speed'],test['Predictions']))\n",
    "print(rmse)"
   ]
  },
  {
   "cell_type": "code",
   "execution_count": 85,
   "id": "2cfde5e6",
   "metadata": {},
   "outputs": [
    {
     "data": {
      "text/html": [
       "<div>\n",
       "<style scoped>\n",
       "    .dataframe tbody tr th:only-of-type {\n",
       "        vertical-align: middle;\n",
       "    }\n",
       "\n",
       "    .dataframe tbody tr th {\n",
       "        vertical-align: top;\n",
       "    }\n",
       "\n",
       "    .dataframe thead th {\n",
       "        text-align: right;\n",
       "    }\n",
       "</style>\n",
       "<table border=\"1\" class=\"dataframe\">\n",
       "  <thead>\n",
       "    <tr style=\"text-align: right;\">\n",
       "      <th></th>\n",
       "      <th>Speed</th>\n",
       "      <th>Predictions</th>\n",
       "    </tr>\n",
       "    <tr>\n",
       "      <th>Date</th>\n",
       "      <th></th>\n",
       "      <th></th>\n",
       "    </tr>\n",
       "  </thead>\n",
       "  <tbody>\n",
       "    <tr>\n",
       "      <th>2015-01-02</th>\n",
       "      <td>3.45</td>\n",
       "      <td>7.657078</td>\n",
       "    </tr>\n",
       "    <tr>\n",
       "      <th>2015-01-03</th>\n",
       "      <td>6.90</td>\n",
       "      <td>7.209167</td>\n",
       "    </tr>\n",
       "    <tr>\n",
       "      <th>2015-01-04</th>\n",
       "      <td>3.45</td>\n",
       "      <td>8.001581</td>\n",
       "    </tr>\n",
       "    <tr>\n",
       "      <th>2015-01-05</th>\n",
       "      <td>3.45</td>\n",
       "      <td>7.693262</td>\n",
       "    </tr>\n",
       "    <tr>\n",
       "      <th>2015-01-06</th>\n",
       "      <td>5.75</td>\n",
       "      <td>8.276991</td>\n",
       "    </tr>\n",
       "    <tr>\n",
       "      <th>...</th>\n",
       "      <td>...</td>\n",
       "      <td>...</td>\n",
       "    </tr>\n",
       "    <tr>\n",
       "      <th>2022-04-10</th>\n",
       "      <td>12.65</td>\n",
       "      <td>8.300134</td>\n",
       "    </tr>\n",
       "    <tr>\n",
       "      <th>2022-04-11</th>\n",
       "      <td>13.80</td>\n",
       "      <td>8.300134</td>\n",
       "    </tr>\n",
       "    <tr>\n",
       "      <th>2022-04-12</th>\n",
       "      <td>9.20</td>\n",
       "      <td>8.300134</td>\n",
       "    </tr>\n",
       "    <tr>\n",
       "      <th>2022-04-13</th>\n",
       "      <td>13.80</td>\n",
       "      <td>8.300134</td>\n",
       "    </tr>\n",
       "    <tr>\n",
       "      <th>2022-04-14</th>\n",
       "      <td>6.90</td>\n",
       "      <td>8.300134</td>\n",
       "    </tr>\n",
       "  </tbody>\n",
       "</table>\n",
       "<p>2635 rows × 2 columns</p>\n",
       "</div>"
      ],
      "text/plain": [
       "            Speed  Predictions\n",
       "Date                          \n",
       "2015-01-02   3.45     7.657078\n",
       "2015-01-03   6.90     7.209167\n",
       "2015-01-04   3.45     8.001581\n",
       "2015-01-05   3.45     7.693262\n",
       "2015-01-06   5.75     8.276991\n",
       "...           ...          ...\n",
       "2022-04-10  12.65     8.300134\n",
       "2022-04-11  13.80     8.300134\n",
       "2022-04-12   9.20     8.300134\n",
       "2022-04-13  13.80     8.300134\n",
       "2022-04-14   6.90     8.300134\n",
       "\n",
       "[2635 rows x 2 columns]"
      ]
     },
     "execution_count": 85,
     "metadata": {},
     "output_type": "execute_result"
    }
   ],
   "source": [
    "test"
   ]
  },
  {
   "cell_type": "code",
   "execution_count": null,
   "id": "8e6e6bc5",
   "metadata": {},
   "outputs": [],
   "source": []
  }
 ],
 "metadata": {
  "kernelspec": {
   "display_name": "Python 3 (ipykernel)",
   "language": "python",
   "name": "python3"
  },
  "language_info": {
   "codemirror_mode": {
    "name": "ipython",
    "version": 3
   },
   "file_extension": ".py",
   "mimetype": "text/x-python",
   "name": "python",
   "nbconvert_exporter": "python",
   "pygments_lexer": "ipython3",
   "version": "3.9.6"
  }
 },
 "nbformat": 4,
 "nbformat_minor": 5
}
